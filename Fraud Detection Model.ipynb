{
 "cells": [
  {
   "cell_type": "code",
   "execution_count": 1,
   "id": "bffa251a",
   "metadata": {},
   "outputs": [],
   "source": [
    "import pandas as pd"
   ]
  },
  {
   "cell_type": "code",
   "execution_count": 2,
   "id": "90dce235",
   "metadata": {},
   "outputs": [],
   "source": [
    "data = pd.read_csv('Fraud.csv')"
   ]
  },
  {
   "cell_type": "code",
   "execution_count": 3,
   "id": "cbe70400",
   "metadata": {},
   "outputs": [
    {
     "data": {
      "text/html": [
       "<div>\n",
       "<style scoped>\n",
       "    .dataframe tbody tr th:only-of-type {\n",
       "        vertical-align: middle;\n",
       "    }\n",
       "\n",
       "    .dataframe tbody tr th {\n",
       "        vertical-align: top;\n",
       "    }\n",
       "\n",
       "    .dataframe thead th {\n",
       "        text-align: right;\n",
       "    }\n",
       "</style>\n",
       "<table border=\"1\" class=\"dataframe\">\n",
       "  <thead>\n",
       "    <tr style=\"text-align: right;\">\n",
       "      <th></th>\n",
       "      <th>step</th>\n",
       "      <th>type</th>\n",
       "      <th>amount</th>\n",
       "      <th>nameOrig</th>\n",
       "      <th>oldbalanceOrg</th>\n",
       "      <th>newbalanceOrig</th>\n",
       "      <th>nameDest</th>\n",
       "      <th>oldbalanceDest</th>\n",
       "      <th>newbalanceDest</th>\n",
       "      <th>isFraud</th>\n",
       "      <th>isFlaggedFraud</th>\n",
       "    </tr>\n",
       "  </thead>\n",
       "  <tbody>\n",
       "    <tr>\n",
       "      <th>0</th>\n",
       "      <td>1</td>\n",
       "      <td>PAYMENT</td>\n",
       "      <td>9839.64</td>\n",
       "      <td>C1231006815</td>\n",
       "      <td>170136.0</td>\n",
       "      <td>160296.36</td>\n",
       "      <td>M1979787155</td>\n",
       "      <td>0.0</td>\n",
       "      <td>0.0</td>\n",
       "      <td>0</td>\n",
       "      <td>0</td>\n",
       "    </tr>\n",
       "    <tr>\n",
       "      <th>1</th>\n",
       "      <td>1</td>\n",
       "      <td>PAYMENT</td>\n",
       "      <td>1864.28</td>\n",
       "      <td>C1666544295</td>\n",
       "      <td>21249.0</td>\n",
       "      <td>19384.72</td>\n",
       "      <td>M2044282225</td>\n",
       "      <td>0.0</td>\n",
       "      <td>0.0</td>\n",
       "      <td>0</td>\n",
       "      <td>0</td>\n",
       "    </tr>\n",
       "    <tr>\n",
       "      <th>2</th>\n",
       "      <td>1</td>\n",
       "      <td>TRANSFER</td>\n",
       "      <td>181.00</td>\n",
       "      <td>C1305486145</td>\n",
       "      <td>181.0</td>\n",
       "      <td>0.00</td>\n",
       "      <td>C553264065</td>\n",
       "      <td>0.0</td>\n",
       "      <td>0.0</td>\n",
       "      <td>1</td>\n",
       "      <td>0</td>\n",
       "    </tr>\n",
       "    <tr>\n",
       "      <th>3</th>\n",
       "      <td>1</td>\n",
       "      <td>CASH_OUT</td>\n",
       "      <td>181.00</td>\n",
       "      <td>C840083671</td>\n",
       "      <td>181.0</td>\n",
       "      <td>0.00</td>\n",
       "      <td>C38997010</td>\n",
       "      <td>21182.0</td>\n",
       "      <td>0.0</td>\n",
       "      <td>1</td>\n",
       "      <td>0</td>\n",
       "    </tr>\n",
       "    <tr>\n",
       "      <th>4</th>\n",
       "      <td>1</td>\n",
       "      <td>PAYMENT</td>\n",
       "      <td>11668.14</td>\n",
       "      <td>C2048537720</td>\n",
       "      <td>41554.0</td>\n",
       "      <td>29885.86</td>\n",
       "      <td>M1230701703</td>\n",
       "      <td>0.0</td>\n",
       "      <td>0.0</td>\n",
       "      <td>0</td>\n",
       "      <td>0</td>\n",
       "    </tr>\n",
       "  </tbody>\n",
       "</table>\n",
       "</div>"
      ],
      "text/plain": [
       "   step      type    amount     nameOrig  oldbalanceOrg  newbalanceOrig  \\\n",
       "0     1   PAYMENT   9839.64  C1231006815       170136.0       160296.36   \n",
       "1     1   PAYMENT   1864.28  C1666544295        21249.0        19384.72   \n",
       "2     1  TRANSFER    181.00  C1305486145          181.0            0.00   \n",
       "3     1  CASH_OUT    181.00   C840083671          181.0            0.00   \n",
       "4     1   PAYMENT  11668.14  C2048537720        41554.0        29885.86   \n",
       "\n",
       "      nameDest  oldbalanceDest  newbalanceDest  isFraud  isFlaggedFraud  \n",
       "0  M1979787155             0.0             0.0        0               0  \n",
       "1  M2044282225             0.0             0.0        0               0  \n",
       "2   C553264065             0.0             0.0        1               0  \n",
       "3    C38997010         21182.0             0.0        1               0  \n",
       "4  M1230701703             0.0             0.0        0               0  "
      ]
     },
     "execution_count": 3,
     "metadata": {},
     "output_type": "execute_result"
    }
   ],
   "source": [
    "data.head()"
   ]
  },
  {
   "cell_type": "code",
   "execution_count": 4,
   "id": "484e490a",
   "metadata": {
    "scrolled": true
   },
   "outputs": [
    {
     "data": {
      "text/html": [
       "<div>\n",
       "<style scoped>\n",
       "    .dataframe tbody tr th:only-of-type {\n",
       "        vertical-align: middle;\n",
       "    }\n",
       "\n",
       "    .dataframe tbody tr th {\n",
       "        vertical-align: top;\n",
       "    }\n",
       "\n",
       "    .dataframe thead th {\n",
       "        text-align: right;\n",
       "    }\n",
       "</style>\n",
       "<table border=\"1\" class=\"dataframe\">\n",
       "  <thead>\n",
       "    <tr style=\"text-align: right;\">\n",
       "      <th></th>\n",
       "      <th>step</th>\n",
       "      <th>type</th>\n",
       "      <th>amount</th>\n",
       "      <th>nameOrig</th>\n",
       "      <th>oldbalanceOrg</th>\n",
       "      <th>newbalanceOrig</th>\n",
       "      <th>nameDest</th>\n",
       "      <th>oldbalanceDest</th>\n",
       "      <th>newbalanceDest</th>\n",
       "      <th>isFraud</th>\n",
       "      <th>isFlaggedFraud</th>\n",
       "    </tr>\n",
       "  </thead>\n",
       "  <tbody>\n",
       "    <tr>\n",
       "      <th>6362615</th>\n",
       "      <td>743</td>\n",
       "      <td>CASH_OUT</td>\n",
       "      <td>339682.13</td>\n",
       "      <td>C786484425</td>\n",
       "      <td>339682.13</td>\n",
       "      <td>0.0</td>\n",
       "      <td>C776919290</td>\n",
       "      <td>0.00</td>\n",
       "      <td>339682.13</td>\n",
       "      <td>1</td>\n",
       "      <td>0</td>\n",
       "    </tr>\n",
       "    <tr>\n",
       "      <th>6362616</th>\n",
       "      <td>743</td>\n",
       "      <td>TRANSFER</td>\n",
       "      <td>6311409.28</td>\n",
       "      <td>C1529008245</td>\n",
       "      <td>6311409.28</td>\n",
       "      <td>0.0</td>\n",
       "      <td>C1881841831</td>\n",
       "      <td>0.00</td>\n",
       "      <td>0.00</td>\n",
       "      <td>1</td>\n",
       "      <td>0</td>\n",
       "    </tr>\n",
       "    <tr>\n",
       "      <th>6362617</th>\n",
       "      <td>743</td>\n",
       "      <td>CASH_OUT</td>\n",
       "      <td>6311409.28</td>\n",
       "      <td>C1162922333</td>\n",
       "      <td>6311409.28</td>\n",
       "      <td>0.0</td>\n",
       "      <td>C1365125890</td>\n",
       "      <td>68488.84</td>\n",
       "      <td>6379898.11</td>\n",
       "      <td>1</td>\n",
       "      <td>0</td>\n",
       "    </tr>\n",
       "    <tr>\n",
       "      <th>6362618</th>\n",
       "      <td>743</td>\n",
       "      <td>TRANSFER</td>\n",
       "      <td>850002.52</td>\n",
       "      <td>C1685995037</td>\n",
       "      <td>850002.52</td>\n",
       "      <td>0.0</td>\n",
       "      <td>C2080388513</td>\n",
       "      <td>0.00</td>\n",
       "      <td>0.00</td>\n",
       "      <td>1</td>\n",
       "      <td>0</td>\n",
       "    </tr>\n",
       "    <tr>\n",
       "      <th>6362619</th>\n",
       "      <td>743</td>\n",
       "      <td>CASH_OUT</td>\n",
       "      <td>850002.52</td>\n",
       "      <td>C1280323807</td>\n",
       "      <td>850002.52</td>\n",
       "      <td>0.0</td>\n",
       "      <td>C873221189</td>\n",
       "      <td>6510099.11</td>\n",
       "      <td>7360101.63</td>\n",
       "      <td>1</td>\n",
       "      <td>0</td>\n",
       "    </tr>\n",
       "  </tbody>\n",
       "</table>\n",
       "</div>"
      ],
      "text/plain": [
       "         step      type      amount     nameOrig  oldbalanceOrg  \\\n",
       "6362615   743  CASH_OUT   339682.13   C786484425      339682.13   \n",
       "6362616   743  TRANSFER  6311409.28  C1529008245     6311409.28   \n",
       "6362617   743  CASH_OUT  6311409.28  C1162922333     6311409.28   \n",
       "6362618   743  TRANSFER   850002.52  C1685995037      850002.52   \n",
       "6362619   743  CASH_OUT   850002.52  C1280323807      850002.52   \n",
       "\n",
       "         newbalanceOrig     nameDest  oldbalanceDest  newbalanceDest  isFraud  \\\n",
       "6362615             0.0   C776919290            0.00       339682.13        1   \n",
       "6362616             0.0  C1881841831            0.00            0.00        1   \n",
       "6362617             0.0  C1365125890        68488.84      6379898.11        1   \n",
       "6362618             0.0  C2080388513            0.00            0.00        1   \n",
       "6362619             0.0   C873221189      6510099.11      7360101.63        1   \n",
       "\n",
       "         isFlaggedFraud  \n",
       "6362615               0  \n",
       "6362616               0  \n",
       "6362617               0  \n",
       "6362618               0  \n",
       "6362619               0  "
      ]
     },
     "execution_count": 4,
     "metadata": {},
     "output_type": "execute_result"
    }
   ],
   "source": [
    "data.tail()"
   ]
  },
  {
   "cell_type": "code",
   "execution_count": 5,
   "id": "d89843c6",
   "metadata": {
    "scrolled": true
   },
   "outputs": [
    {
     "name": "stdout",
     "output_type": "stream",
     "text": [
      "<class 'pandas.core.frame.DataFrame'>\n",
      "RangeIndex: 6362620 entries, 0 to 6362619\n",
      "Data columns (total 11 columns):\n",
      " #   Column          Dtype  \n",
      "---  ------          -----  \n",
      " 0   step            int64  \n",
      " 1   type            object \n",
      " 2   amount          float64\n",
      " 3   nameOrig        object \n",
      " 4   oldbalanceOrg   float64\n",
      " 5   newbalanceOrig  float64\n",
      " 6   nameDest        object \n",
      " 7   oldbalanceDest  float64\n",
      " 8   newbalanceDest  float64\n",
      " 9   isFraud         int64  \n",
      " 10  isFlaggedFraud  int64  \n",
      "dtypes: float64(5), int64(3), object(3)\n",
      "memory usage: 534.0+ MB\n"
     ]
    }
   ],
   "source": [
    "data.info()"
   ]
  },
  {
   "cell_type": "code",
   "execution_count": 6,
   "id": "49b1d102",
   "metadata": {},
   "outputs": [],
   "source": [
    "from sklearn.preprocessing import LabelEncoder"
   ]
  },
  {
   "cell_type": "code",
   "execution_count": 7,
   "id": "ec7b7e73",
   "metadata": {},
   "outputs": [],
   "source": [
    "le = LabelEncoder()"
   ]
  },
  {
   "cell_type": "code",
   "execution_count": 8,
   "id": "4679ec26",
   "metadata": {},
   "outputs": [],
   "source": [
    "data['type'] = le.fit_transform(data['type'])"
   ]
  },
  {
   "cell_type": "code",
   "execution_count": 9,
   "id": "f674ce6e",
   "metadata": {},
   "outputs": [
    {
     "data": {
      "text/html": [
       "<div>\n",
       "<style scoped>\n",
       "    .dataframe tbody tr th:only-of-type {\n",
       "        vertical-align: middle;\n",
       "    }\n",
       "\n",
       "    .dataframe tbody tr th {\n",
       "        vertical-align: top;\n",
       "    }\n",
       "\n",
       "    .dataframe thead th {\n",
       "        text-align: right;\n",
       "    }\n",
       "</style>\n",
       "<table border=\"1\" class=\"dataframe\">\n",
       "  <thead>\n",
       "    <tr style=\"text-align: right;\">\n",
       "      <th></th>\n",
       "      <th>step</th>\n",
       "      <th>type</th>\n",
       "      <th>amount</th>\n",
       "      <th>nameOrig</th>\n",
       "      <th>oldbalanceOrg</th>\n",
       "      <th>newbalanceOrig</th>\n",
       "      <th>nameDest</th>\n",
       "      <th>oldbalanceDest</th>\n",
       "      <th>newbalanceDest</th>\n",
       "      <th>isFraud</th>\n",
       "      <th>isFlaggedFraud</th>\n",
       "    </tr>\n",
       "  </thead>\n",
       "  <tbody>\n",
       "    <tr>\n",
       "      <th>0</th>\n",
       "      <td>1</td>\n",
       "      <td>3</td>\n",
       "      <td>9839.64</td>\n",
       "      <td>C1231006815</td>\n",
       "      <td>170136.00</td>\n",
       "      <td>160296.36</td>\n",
       "      <td>M1979787155</td>\n",
       "      <td>0.00</td>\n",
       "      <td>0.00</td>\n",
       "      <td>0</td>\n",
       "      <td>0</td>\n",
       "    </tr>\n",
       "    <tr>\n",
       "      <th>1</th>\n",
       "      <td>1</td>\n",
       "      <td>3</td>\n",
       "      <td>1864.28</td>\n",
       "      <td>C1666544295</td>\n",
       "      <td>21249.00</td>\n",
       "      <td>19384.72</td>\n",
       "      <td>M2044282225</td>\n",
       "      <td>0.00</td>\n",
       "      <td>0.00</td>\n",
       "      <td>0</td>\n",
       "      <td>0</td>\n",
       "    </tr>\n",
       "    <tr>\n",
       "      <th>2</th>\n",
       "      <td>1</td>\n",
       "      <td>4</td>\n",
       "      <td>181.00</td>\n",
       "      <td>C1305486145</td>\n",
       "      <td>181.00</td>\n",
       "      <td>0.00</td>\n",
       "      <td>C553264065</td>\n",
       "      <td>0.00</td>\n",
       "      <td>0.00</td>\n",
       "      <td>1</td>\n",
       "      <td>0</td>\n",
       "    </tr>\n",
       "    <tr>\n",
       "      <th>3</th>\n",
       "      <td>1</td>\n",
       "      <td>1</td>\n",
       "      <td>181.00</td>\n",
       "      <td>C840083671</td>\n",
       "      <td>181.00</td>\n",
       "      <td>0.00</td>\n",
       "      <td>C38997010</td>\n",
       "      <td>21182.00</td>\n",
       "      <td>0.00</td>\n",
       "      <td>1</td>\n",
       "      <td>0</td>\n",
       "    </tr>\n",
       "    <tr>\n",
       "      <th>4</th>\n",
       "      <td>1</td>\n",
       "      <td>3</td>\n",
       "      <td>11668.14</td>\n",
       "      <td>C2048537720</td>\n",
       "      <td>41554.00</td>\n",
       "      <td>29885.86</td>\n",
       "      <td>M1230701703</td>\n",
       "      <td>0.00</td>\n",
       "      <td>0.00</td>\n",
       "      <td>0</td>\n",
       "      <td>0</td>\n",
       "    </tr>\n",
       "    <tr>\n",
       "      <th>...</th>\n",
       "      <td>...</td>\n",
       "      <td>...</td>\n",
       "      <td>...</td>\n",
       "      <td>...</td>\n",
       "      <td>...</td>\n",
       "      <td>...</td>\n",
       "      <td>...</td>\n",
       "      <td>...</td>\n",
       "      <td>...</td>\n",
       "      <td>...</td>\n",
       "      <td>...</td>\n",
       "    </tr>\n",
       "    <tr>\n",
       "      <th>6362615</th>\n",
       "      <td>743</td>\n",
       "      <td>1</td>\n",
       "      <td>339682.13</td>\n",
       "      <td>C786484425</td>\n",
       "      <td>339682.13</td>\n",
       "      <td>0.00</td>\n",
       "      <td>C776919290</td>\n",
       "      <td>0.00</td>\n",
       "      <td>339682.13</td>\n",
       "      <td>1</td>\n",
       "      <td>0</td>\n",
       "    </tr>\n",
       "    <tr>\n",
       "      <th>6362616</th>\n",
       "      <td>743</td>\n",
       "      <td>4</td>\n",
       "      <td>6311409.28</td>\n",
       "      <td>C1529008245</td>\n",
       "      <td>6311409.28</td>\n",
       "      <td>0.00</td>\n",
       "      <td>C1881841831</td>\n",
       "      <td>0.00</td>\n",
       "      <td>0.00</td>\n",
       "      <td>1</td>\n",
       "      <td>0</td>\n",
       "    </tr>\n",
       "    <tr>\n",
       "      <th>6362617</th>\n",
       "      <td>743</td>\n",
       "      <td>1</td>\n",
       "      <td>6311409.28</td>\n",
       "      <td>C1162922333</td>\n",
       "      <td>6311409.28</td>\n",
       "      <td>0.00</td>\n",
       "      <td>C1365125890</td>\n",
       "      <td>68488.84</td>\n",
       "      <td>6379898.11</td>\n",
       "      <td>1</td>\n",
       "      <td>0</td>\n",
       "    </tr>\n",
       "    <tr>\n",
       "      <th>6362618</th>\n",
       "      <td>743</td>\n",
       "      <td>4</td>\n",
       "      <td>850002.52</td>\n",
       "      <td>C1685995037</td>\n",
       "      <td>850002.52</td>\n",
       "      <td>0.00</td>\n",
       "      <td>C2080388513</td>\n",
       "      <td>0.00</td>\n",
       "      <td>0.00</td>\n",
       "      <td>1</td>\n",
       "      <td>0</td>\n",
       "    </tr>\n",
       "    <tr>\n",
       "      <th>6362619</th>\n",
       "      <td>743</td>\n",
       "      <td>1</td>\n",
       "      <td>850002.52</td>\n",
       "      <td>C1280323807</td>\n",
       "      <td>850002.52</td>\n",
       "      <td>0.00</td>\n",
       "      <td>C873221189</td>\n",
       "      <td>6510099.11</td>\n",
       "      <td>7360101.63</td>\n",
       "      <td>1</td>\n",
       "      <td>0</td>\n",
       "    </tr>\n",
       "  </tbody>\n",
       "</table>\n",
       "<p>6362620 rows × 11 columns</p>\n",
       "</div>"
      ],
      "text/plain": [
       "         step  type      amount     nameOrig  oldbalanceOrg  newbalanceOrig  \\\n",
       "0           1     3     9839.64  C1231006815      170136.00       160296.36   \n",
       "1           1     3     1864.28  C1666544295       21249.00        19384.72   \n",
       "2           1     4      181.00  C1305486145         181.00            0.00   \n",
       "3           1     1      181.00   C840083671         181.00            0.00   \n",
       "4           1     3    11668.14  C2048537720       41554.00        29885.86   \n",
       "...       ...   ...         ...          ...            ...             ...   \n",
       "6362615   743     1   339682.13   C786484425      339682.13            0.00   \n",
       "6362616   743     4  6311409.28  C1529008245     6311409.28            0.00   \n",
       "6362617   743     1  6311409.28  C1162922333     6311409.28            0.00   \n",
       "6362618   743     4   850002.52  C1685995037      850002.52            0.00   \n",
       "6362619   743     1   850002.52  C1280323807      850002.52            0.00   \n",
       "\n",
       "            nameDest  oldbalanceDest  newbalanceDest  isFraud  isFlaggedFraud  \n",
       "0        M1979787155            0.00            0.00        0               0  \n",
       "1        M2044282225            0.00            0.00        0               0  \n",
       "2         C553264065            0.00            0.00        1               0  \n",
       "3          C38997010        21182.00            0.00        1               0  \n",
       "4        M1230701703            0.00            0.00        0               0  \n",
       "...              ...             ...             ...      ...             ...  \n",
       "6362615   C776919290            0.00       339682.13        1               0  \n",
       "6362616  C1881841831            0.00            0.00        1               0  \n",
       "6362617  C1365125890        68488.84      6379898.11        1               0  \n",
       "6362618  C2080388513            0.00            0.00        1               0  \n",
       "6362619   C873221189      6510099.11      7360101.63        1               0  \n",
       "\n",
       "[6362620 rows x 11 columns]"
      ]
     },
     "execution_count": 9,
     "metadata": {},
     "output_type": "execute_result"
    }
   ],
   "source": [
    "data"
   ]
  },
  {
   "cell_type": "code",
   "execution_count": 10,
   "id": "8e43ef4d",
   "metadata": {},
   "outputs": [
    {
     "data": {
      "text/html": [
       "<div>\n",
       "<style scoped>\n",
       "    .dataframe tbody tr th:only-of-type {\n",
       "        vertical-align: middle;\n",
       "    }\n",
       "\n",
       "    .dataframe tbody tr th {\n",
       "        vertical-align: top;\n",
       "    }\n",
       "\n",
       "    .dataframe thead th {\n",
       "        text-align: right;\n",
       "    }\n",
       "</style>\n",
       "<table border=\"1\" class=\"dataframe\">\n",
       "  <thead>\n",
       "    <tr style=\"text-align: right;\">\n",
       "      <th></th>\n",
       "      <th>step</th>\n",
       "      <th>type</th>\n",
       "      <th>amount</th>\n",
       "      <th>oldbalanceOrg</th>\n",
       "      <th>newbalanceOrig</th>\n",
       "      <th>oldbalanceDest</th>\n",
       "      <th>newbalanceDest</th>\n",
       "      <th>isFraud</th>\n",
       "      <th>isFlaggedFraud</th>\n",
       "    </tr>\n",
       "  </thead>\n",
       "  <tbody>\n",
       "    <tr>\n",
       "      <th>count</th>\n",
       "      <td>6.362620e+06</td>\n",
       "      <td>6.362620e+06</td>\n",
       "      <td>6.362620e+06</td>\n",
       "      <td>6.362620e+06</td>\n",
       "      <td>6.362620e+06</td>\n",
       "      <td>6.362620e+06</td>\n",
       "      <td>6.362620e+06</td>\n",
       "      <td>6.362620e+06</td>\n",
       "      <td>6.362620e+06</td>\n",
       "    </tr>\n",
       "    <tr>\n",
       "      <th>mean</th>\n",
       "      <td>2.433972e+02</td>\n",
       "      <td>1.714150e+00</td>\n",
       "      <td>1.798619e+05</td>\n",
       "      <td>8.338831e+05</td>\n",
       "      <td>8.551137e+05</td>\n",
       "      <td>1.100702e+06</td>\n",
       "      <td>1.224996e+06</td>\n",
       "      <td>1.290820e-03</td>\n",
       "      <td>2.514687e-06</td>\n",
       "    </tr>\n",
       "    <tr>\n",
       "      <th>std</th>\n",
       "      <td>1.423320e+02</td>\n",
       "      <td>1.350117e+00</td>\n",
       "      <td>6.038582e+05</td>\n",
       "      <td>2.888243e+06</td>\n",
       "      <td>2.924049e+06</td>\n",
       "      <td>3.399180e+06</td>\n",
       "      <td>3.674129e+06</td>\n",
       "      <td>3.590480e-02</td>\n",
       "      <td>1.585775e-03</td>\n",
       "    </tr>\n",
       "    <tr>\n",
       "      <th>min</th>\n",
       "      <td>1.000000e+00</td>\n",
       "      <td>0.000000e+00</td>\n",
       "      <td>0.000000e+00</td>\n",
       "      <td>0.000000e+00</td>\n",
       "      <td>0.000000e+00</td>\n",
       "      <td>0.000000e+00</td>\n",
       "      <td>0.000000e+00</td>\n",
       "      <td>0.000000e+00</td>\n",
       "      <td>0.000000e+00</td>\n",
       "    </tr>\n",
       "    <tr>\n",
       "      <th>25%</th>\n",
       "      <td>1.560000e+02</td>\n",
       "      <td>1.000000e+00</td>\n",
       "      <td>1.338957e+04</td>\n",
       "      <td>0.000000e+00</td>\n",
       "      <td>0.000000e+00</td>\n",
       "      <td>0.000000e+00</td>\n",
       "      <td>0.000000e+00</td>\n",
       "      <td>0.000000e+00</td>\n",
       "      <td>0.000000e+00</td>\n",
       "    </tr>\n",
       "    <tr>\n",
       "      <th>50%</th>\n",
       "      <td>2.390000e+02</td>\n",
       "      <td>1.000000e+00</td>\n",
       "      <td>7.487194e+04</td>\n",
       "      <td>1.420800e+04</td>\n",
       "      <td>0.000000e+00</td>\n",
       "      <td>1.327057e+05</td>\n",
       "      <td>2.146614e+05</td>\n",
       "      <td>0.000000e+00</td>\n",
       "      <td>0.000000e+00</td>\n",
       "    </tr>\n",
       "    <tr>\n",
       "      <th>75%</th>\n",
       "      <td>3.350000e+02</td>\n",
       "      <td>3.000000e+00</td>\n",
       "      <td>2.087215e+05</td>\n",
       "      <td>1.073152e+05</td>\n",
       "      <td>1.442584e+05</td>\n",
       "      <td>9.430367e+05</td>\n",
       "      <td>1.111909e+06</td>\n",
       "      <td>0.000000e+00</td>\n",
       "      <td>0.000000e+00</td>\n",
       "    </tr>\n",
       "    <tr>\n",
       "      <th>max</th>\n",
       "      <td>7.430000e+02</td>\n",
       "      <td>4.000000e+00</td>\n",
       "      <td>9.244552e+07</td>\n",
       "      <td>5.958504e+07</td>\n",
       "      <td>4.958504e+07</td>\n",
       "      <td>3.560159e+08</td>\n",
       "      <td>3.561793e+08</td>\n",
       "      <td>1.000000e+00</td>\n",
       "      <td>1.000000e+00</td>\n",
       "    </tr>\n",
       "  </tbody>\n",
       "</table>\n",
       "</div>"
      ],
      "text/plain": [
       "               step          type        amount  oldbalanceOrg  \\\n",
       "count  6.362620e+06  6.362620e+06  6.362620e+06   6.362620e+06   \n",
       "mean   2.433972e+02  1.714150e+00  1.798619e+05   8.338831e+05   \n",
       "std    1.423320e+02  1.350117e+00  6.038582e+05   2.888243e+06   \n",
       "min    1.000000e+00  0.000000e+00  0.000000e+00   0.000000e+00   \n",
       "25%    1.560000e+02  1.000000e+00  1.338957e+04   0.000000e+00   \n",
       "50%    2.390000e+02  1.000000e+00  7.487194e+04   1.420800e+04   \n",
       "75%    3.350000e+02  3.000000e+00  2.087215e+05   1.073152e+05   \n",
       "max    7.430000e+02  4.000000e+00  9.244552e+07   5.958504e+07   \n",
       "\n",
       "       newbalanceOrig  oldbalanceDest  newbalanceDest       isFraud  \\\n",
       "count    6.362620e+06    6.362620e+06    6.362620e+06  6.362620e+06   \n",
       "mean     8.551137e+05    1.100702e+06    1.224996e+06  1.290820e-03   \n",
       "std      2.924049e+06    3.399180e+06    3.674129e+06  3.590480e-02   \n",
       "min      0.000000e+00    0.000000e+00    0.000000e+00  0.000000e+00   \n",
       "25%      0.000000e+00    0.000000e+00    0.000000e+00  0.000000e+00   \n",
       "50%      0.000000e+00    1.327057e+05    2.146614e+05  0.000000e+00   \n",
       "75%      1.442584e+05    9.430367e+05    1.111909e+06  0.000000e+00   \n",
       "max      4.958504e+07    3.560159e+08    3.561793e+08  1.000000e+00   \n",
       "\n",
       "       isFlaggedFraud  \n",
       "count    6.362620e+06  \n",
       "mean     2.514687e-06  \n",
       "std      1.585775e-03  \n",
       "min      0.000000e+00  \n",
       "25%      0.000000e+00  \n",
       "50%      0.000000e+00  \n",
       "75%      0.000000e+00  \n",
       "max      1.000000e+00  "
      ]
     },
     "execution_count": 10,
     "metadata": {},
     "output_type": "execute_result"
    }
   ],
   "source": [
    "data.describe()"
   ]
  },
  {
   "cell_type": "code",
   "execution_count": 11,
   "id": "f79e4971",
   "metadata": {},
   "outputs": [
    {
     "data": {
      "text/html": [
       "<div>\n",
       "<style scoped>\n",
       "    .dataframe tbody tr th:only-of-type {\n",
       "        vertical-align: middle;\n",
       "    }\n",
       "\n",
       "    .dataframe tbody tr th {\n",
       "        vertical-align: top;\n",
       "    }\n",
       "\n",
       "    .dataframe thead th {\n",
       "        text-align: right;\n",
       "    }\n",
       "</style>\n",
       "<table border=\"1\" class=\"dataframe\">\n",
       "  <thead>\n",
       "    <tr style=\"text-align: right;\">\n",
       "      <th></th>\n",
       "      <th>step</th>\n",
       "      <th>type</th>\n",
       "      <th>amount</th>\n",
       "      <th>oldbalanceOrg</th>\n",
       "      <th>newbalanceOrig</th>\n",
       "      <th>oldbalanceDest</th>\n",
       "      <th>newbalanceDest</th>\n",
       "      <th>isFraud</th>\n",
       "      <th>isFlaggedFraud</th>\n",
       "    </tr>\n",
       "  </thead>\n",
       "  <tbody>\n",
       "    <tr>\n",
       "      <th>step</th>\n",
       "      <td>1.000000</td>\n",
       "      <td>0.006635</td>\n",
       "      <td>0.022373</td>\n",
       "      <td>-0.010058</td>\n",
       "      <td>-0.010299</td>\n",
       "      <td>0.027665</td>\n",
       "      <td>0.025888</td>\n",
       "      <td>0.031578</td>\n",
       "      <td>0.003277</td>\n",
       "    </tr>\n",
       "    <tr>\n",
       "      <th>type</th>\n",
       "      <td>0.006635</td>\n",
       "      <td>1.000000</td>\n",
       "      <td>0.088419</td>\n",
       "      <td>-0.339760</td>\n",
       "      <td>-0.352758</td>\n",
       "      <td>-0.104679</td>\n",
       "      <td>-0.059364</td>\n",
       "      <td>0.020833</td>\n",
       "      <td>0.002685</td>\n",
       "    </tr>\n",
       "    <tr>\n",
       "      <th>amount</th>\n",
       "      <td>0.022373</td>\n",
       "      <td>0.088419</td>\n",
       "      <td>1.000000</td>\n",
       "      <td>-0.002762</td>\n",
       "      <td>-0.007861</td>\n",
       "      <td>0.294137</td>\n",
       "      <td>0.459304</td>\n",
       "      <td>0.076688</td>\n",
       "      <td>0.012295</td>\n",
       "    </tr>\n",
       "    <tr>\n",
       "      <th>oldbalanceOrg</th>\n",
       "      <td>-0.010058</td>\n",
       "      <td>-0.339760</td>\n",
       "      <td>-0.002762</td>\n",
       "      <td>1.000000</td>\n",
       "      <td>0.998803</td>\n",
       "      <td>0.066243</td>\n",
       "      <td>0.042029</td>\n",
       "      <td>0.010154</td>\n",
       "      <td>0.003835</td>\n",
       "    </tr>\n",
       "    <tr>\n",
       "      <th>newbalanceOrig</th>\n",
       "      <td>-0.010299</td>\n",
       "      <td>-0.352758</td>\n",
       "      <td>-0.007861</td>\n",
       "      <td>0.998803</td>\n",
       "      <td>1.000000</td>\n",
       "      <td>0.067812</td>\n",
       "      <td>0.041837</td>\n",
       "      <td>-0.008148</td>\n",
       "      <td>0.003776</td>\n",
       "    </tr>\n",
       "    <tr>\n",
       "      <th>oldbalanceDest</th>\n",
       "      <td>0.027665</td>\n",
       "      <td>-0.104679</td>\n",
       "      <td>0.294137</td>\n",
       "      <td>0.066243</td>\n",
       "      <td>0.067812</td>\n",
       "      <td>1.000000</td>\n",
       "      <td>0.976569</td>\n",
       "      <td>-0.005885</td>\n",
       "      <td>-0.000513</td>\n",
       "    </tr>\n",
       "    <tr>\n",
       "      <th>newbalanceDest</th>\n",
       "      <td>0.025888</td>\n",
       "      <td>-0.059364</td>\n",
       "      <td>0.459304</td>\n",
       "      <td>0.042029</td>\n",
       "      <td>0.041837</td>\n",
       "      <td>0.976569</td>\n",
       "      <td>1.000000</td>\n",
       "      <td>0.000535</td>\n",
       "      <td>-0.000529</td>\n",
       "    </tr>\n",
       "    <tr>\n",
       "      <th>isFraud</th>\n",
       "      <td>0.031578</td>\n",
       "      <td>0.020833</td>\n",
       "      <td>0.076688</td>\n",
       "      <td>0.010154</td>\n",
       "      <td>-0.008148</td>\n",
       "      <td>-0.005885</td>\n",
       "      <td>0.000535</td>\n",
       "      <td>1.000000</td>\n",
       "      <td>0.044109</td>\n",
       "    </tr>\n",
       "    <tr>\n",
       "      <th>isFlaggedFraud</th>\n",
       "      <td>0.003277</td>\n",
       "      <td>0.002685</td>\n",
       "      <td>0.012295</td>\n",
       "      <td>0.003835</td>\n",
       "      <td>0.003776</td>\n",
       "      <td>-0.000513</td>\n",
       "      <td>-0.000529</td>\n",
       "      <td>0.044109</td>\n",
       "      <td>1.000000</td>\n",
       "    </tr>\n",
       "  </tbody>\n",
       "</table>\n",
       "</div>"
      ],
      "text/plain": [
       "                    step      type    amount  oldbalanceOrg  newbalanceOrig  \\\n",
       "step            1.000000  0.006635  0.022373      -0.010058       -0.010299   \n",
       "type            0.006635  1.000000  0.088419      -0.339760       -0.352758   \n",
       "amount          0.022373  0.088419  1.000000      -0.002762       -0.007861   \n",
       "oldbalanceOrg  -0.010058 -0.339760 -0.002762       1.000000        0.998803   \n",
       "newbalanceOrig -0.010299 -0.352758 -0.007861       0.998803        1.000000   \n",
       "oldbalanceDest  0.027665 -0.104679  0.294137       0.066243        0.067812   \n",
       "newbalanceDest  0.025888 -0.059364  0.459304       0.042029        0.041837   \n",
       "isFraud         0.031578  0.020833  0.076688       0.010154       -0.008148   \n",
       "isFlaggedFraud  0.003277  0.002685  0.012295       0.003835        0.003776   \n",
       "\n",
       "                oldbalanceDest  newbalanceDest   isFraud  isFlaggedFraud  \n",
       "step                  0.027665        0.025888  0.031578        0.003277  \n",
       "type                 -0.104679       -0.059364  0.020833        0.002685  \n",
       "amount                0.294137        0.459304  0.076688        0.012295  \n",
       "oldbalanceOrg         0.066243        0.042029  0.010154        0.003835  \n",
       "newbalanceOrig        0.067812        0.041837 -0.008148        0.003776  \n",
       "oldbalanceDest        1.000000        0.976569 -0.005885       -0.000513  \n",
       "newbalanceDest        0.976569        1.000000  0.000535       -0.000529  \n",
       "isFraud              -0.005885        0.000535  1.000000        0.044109  \n",
       "isFlaggedFraud       -0.000513       -0.000529  0.044109        1.000000  "
      ]
     },
     "execution_count": 11,
     "metadata": {},
     "output_type": "execute_result"
    }
   ],
   "source": [
    "data.corr()"
   ]
  },
  {
   "cell_type": "code",
   "execution_count": 12,
   "id": "e9f51fa9",
   "metadata": {},
   "outputs": [
    {
     "name": "stdout",
     "output_type": "stream",
     "text": [
      "There are no missing values in the DataFrame.\n"
     ]
    }
   ],
   "source": [
    "if data.isnull().values.any():\n",
    "    print(\"There are missing values in the DataFrame.\")\n",
    "else:\n",
    "    print(\"There are no missing values in the DataFrame.\")"
   ]
  },
  {
   "cell_type": "code",
   "execution_count": 13,
   "id": "36b10aaf",
   "metadata": {},
   "outputs": [],
   "source": [
    "corr_matrix = data.corr()"
   ]
  },
  {
   "cell_type": "code",
   "execution_count": 14,
   "id": "32a6a01c",
   "metadata": {
    "scrolled": true
   },
   "outputs": [],
   "source": [
    "corr_with_target = corr_matrix['isFraud'].sort_values(ascending=False)"
   ]
  },
  {
   "cell_type": "code",
   "execution_count": 15,
   "id": "f0e6649b",
   "metadata": {},
   "outputs": [
    {
     "data": {
      "text/plain": [
       "isFraud           1.000000\n",
       "amount            0.076688\n",
       "isFlaggedFraud    0.044109\n",
       "step              0.031578\n",
       "type              0.020833\n",
       "oldbalanceOrg     0.010154\n",
       "newbalanceDest    0.000535\n",
       "oldbalanceDest   -0.005885\n",
       "newbalanceOrig   -0.008148\n",
       "Name: isFraud, dtype: float64"
      ]
     },
     "execution_count": 15,
     "metadata": {},
     "output_type": "execute_result"
    }
   ],
   "source": [
    "corr_with_target"
   ]
  },
  {
   "cell_type": "code",
   "execution_count": 16,
   "id": "e298e8ec",
   "metadata": {},
   "outputs": [],
   "source": [
    "import matplotlib.pyplot as plt\n",
    "import seaborn as sns"
   ]
  },
  {
   "cell_type": "code",
   "execution_count": 17,
   "id": "487d538d",
   "metadata": {},
   "outputs": [
    {
     "data": {
      "image/png": "[encoded data removed]",
      "text/plain": [
       "<Figure size 640x480 with 2 Axes>"
      ]
     },
     "metadata": {},
     "output_type": "display_data"
    }
   ],
   "source": [
    "sns.heatmap(data.corr(), cmap='Greens', annot=True, cbar=True, annot_kws={'fontsize': 8})\n",
    "\n",
    "plt.title('Heatmap of CSV Data')\n",
    "plt.xlabel('Features')\n",
    "plt.ylabel('Features')\n",
    "\n",
    "plt.show()\n"
   ]
  },
  {
   "cell_type": "code",
   "execution_count": 18,
   "id": "160365d7",
   "metadata": {},
   "outputs": [],
   "source": [
    "from sklearn.pipeline import Pipeline                                            "
   ]
  },
  {
   "cell_type": "code",
   "execution_count": 19,
   "id": "06a64466",
   "metadata": {},
   "outputs": [],
   "source": [
    "from sklearn.decomposition import PCA"
   ]
  },
  {
   "cell_type": "code",
   "execution_count": 20,
   "id": "b4e29259",
   "metadata": {},
   "outputs": [],
   "source": [
    "from sklearn.model_selection import train_test_split"
   ]
  },
  {
   "cell_type": "code",
   "execution_count": 21,
   "id": "3285670b",
   "metadata": {},
   "outputs": [],
   "source": [
    "from sklearn.ensemble import RandomForestClassifier"
   ]
  },
  {
   "cell_type": "code",
   "execution_count": 22,
   "id": "9a9c536e",
   "metadata": {},
   "outputs": [],
   "source": [
    "pipeline = Pipeline([\n",
    "    ('feature_engineering', PCA(n_components = 2, svd_solver='full')),\n",
    "    ('model', RandomForestClassifier(n_estimators = 100, random_state=42))\n",
    "])"
   ]
  },
  {
   "cell_type": "code",
   "execution_count": 23,
   "id": "9cd52512",
   "metadata": {},
   "outputs": [],
   "source": [
    "X = data[['amount', 'type', 'oldbalanceOrg', 'step']]"
   ]
  },
  {
   "cell_type": "code",
   "execution_count": 24,
   "id": "e1c4d430",
   "metadata": {},
   "outputs": [],
   "source": [
    "y = data['isFraud']"
   ]
  },
  {
   "cell_type": "code",
   "execution_count": 25,
   "id": "00aa2905",
   "metadata": {},
   "outputs": [],
   "source": [
    "X_train, X_val_test, y_train, y_val_test = train_test_split(X, y, test_size=0.3, random_state=42)\n",
    "X_val, X_test, y_val, y_test = train_test_split(X_val_test, y_val_test, test_size=0.5, random_state=42)"
   ]
  },
  {
   "cell_type": "code",
   "execution_count": 26,
   "id": "faa88040",
   "metadata": {},
   "outputs": [
    {
     "data": {
      "text/plain": [
       "Pipeline(steps=[('feature_engineering', PCA(n_components=2, svd_solver='full')),\n",
       "                ('model', RandomForestClassifier(random_state=42))])"
      ]
     },
     "execution_count": 26,
     "metadata": {},
     "output_type": "execute_result"
    }
   ],
   "source": [
    "pipeline.fit(X_train,y_train)"
   ]
  },
  {
   "cell_type": "code",
   "execution_count": 27,
   "id": "03e5ea0a",
   "metadata": {},
   "outputs": [],
   "source": [
    "y_val_pred = pipeline.predict(X_val)"
   ]
  },
  {
   "cell_type": "code",
   "execution_count": 28,
   "id": "a5d51e21",
   "metadata": {},
   "outputs": [
    {
     "data": {
      "text/plain": [
       "array([0, 0, 0, ..., 0, 0, 0], dtype=int64)"
      ]
     },
     "execution_count": 28,
     "metadata": {},
     "output_type": "execute_result"
    }
   ],
   "source": [
    "y_val_pred"
   ]
  },
  {
   "cell_type": "markdown",
   "id": "78951b6d",
   "metadata": {},
   "source": [
    "# Display the evaluation metrics for validation set\n"
   ]
  },
  {
   "cell_type": "code",
   "execution_count": 29,
   "id": "2fc55f1d",
   "metadata": {},
   "outputs": [],
   "source": [
    "from sklearn.metrics import accuracy_score, r2_score, confusion_matrix, classification_report, roc_auc_score, roc_curve"
   ]
  },
  {
   "cell_type": "code",
   "execution_count": 30,
   "id": "9e80f544",
   "metadata": {},
   "outputs": [],
   "source": [
    "acc = accuracy_score(y_val,y_val_pred)"
   ]
  },
  {
   "cell_type": "code",
   "execution_count": 31,
   "id": "98450eab",
   "metadata": {},
   "outputs": [
    {
     "data": {
      "text/plain": [
       "0.9997244321783584"
      ]
     },
     "execution_count": 31,
     "metadata": {},
     "output_type": "execute_result"
    }
   ],
   "source": [
    "acc"
   ]
  },
  {
   "cell_type": "code",
   "execution_count": 32,
   "id": "8524ea95",
   "metadata": {},
   "outputs": [],
   "source": [
    "r2 = r2_score(y_val,y_val_pred)"
   ]
  },
  {
   "cell_type": "code",
   "execution_count": 33,
   "id": "0780ac3c",
   "metadata": {},
   "outputs": [
    {
     "data": {
      "text/plain": [
       "0.7853801491626052"
      ]
     },
     "execution_count": 33,
     "metadata": {},
     "output_type": "execute_result"
    }
   ],
   "source": [
    "r2"
   ]
  },
  {
   "cell_type": "code",
   "execution_count": 34,
   "id": "024f08e0",
   "metadata": {},
   "outputs": [],
   "source": [
    "cm = confusion_matrix(y_val,y_val_pred)"
   ]
  },
  {
   "cell_type": "code",
   "execution_count": 35,
   "id": "3d0564c0",
   "metadata": {
    "scrolled": true
   },
   "outputs": [
    {
     "data": {
      "text/plain": [
       "array([[953036,    130],\n",
       "       [   133,   1094]], dtype=int64)"
      ]
     },
     "execution_count": 35,
     "metadata": {},
     "output_type": "execute_result"
    }
   ],
   "source": [
    "cm"
   ]
  },
  {
   "cell_type": "code",
   "execution_count": 36,
   "id": "a31b9494",
   "metadata": {},
   "outputs": [],
   "source": [
    "classification = classification_report(y_val, y_val_pred)"
   ]
  },
  {
   "cell_type": "code",
   "execution_count": 37,
   "id": "f8dc2dd4",
   "metadata": {},
   "outputs": [
    {
     "data": {
      "text/plain": [
       "'              precision    recall  f1-score   support\\n\\n           0       1.00      1.00      1.00    953166\\n           1       0.89      0.89      0.89      1227\\n\\n    accuracy                           1.00    954393\\n   macro avg       0.95      0.95      0.95    954393\\nweighted avg       1.00      1.00      1.00    954393\\n'"
      ]
     },
     "execution_count": 37,
     "metadata": {},
     "output_type": "execute_result"
    }
   ],
   "source": [
    "classification"
   ]
  },
  {
   "cell_type": "code",
   "execution_count": 38,
   "id": "ab34ef0f",
   "metadata": {},
   "outputs": [],
   "source": [
    "auc_roc = roc_auc_score(y_val, y_val_pred)"
   ]
  },
  {
   "cell_type": "code",
   "execution_count": 39,
   "id": "40ace348",
   "metadata": {
    "scrolled": true
   },
   "outputs": [
    {
     "data": {
      "text/plain": [
       "0.9457345771982845"
      ]
     },
     "execution_count": 39,
     "metadata": {},
     "output_type": "execute_result"
    }
   ],
   "source": [
    "auc_roc"
   ]
  },
  {
   "cell_type": "markdown",
   "id": "a01729e2",
   "metadata": {},
   "source": [
    "# Plot ROC Curve for validation set\n"
   ]
  },
  {
   "cell_type": "code",
   "execution_count": 40,
   "id": "31e269e5",
   "metadata": {},
   "outputs": [
    {
     "data": {
      "image/png": "[encoded data removed]",
      "text/plain": [
       "<Figure size 640x480 with 1 Axes>"
      ]
     },
     "metadata": {},
     "output_type": "display_data"
    }
   ],
   "source": [
    "y_prob_val = pipeline.predict_proba(X_val)[:, 1]\n",
    "fpr_val, tpr_val, thresholds_val = roc_curve(y_val, y_prob_val)\n",
    "plt.plot(fpr_val, tpr_val, label='ROC curve (Validation Set)')\n",
    "plt.xlabel('False Positive Rate')\n",
    "plt.ylabel('True Positive Rate')\n",
    "plt.title('ROC Curve (Validation Set)')\n",
    "plt.legend()\n",
    "plt.show()\n"
   ]
  },
  {
   "cell_type": "markdown",
   "id": "0d2a9292",
   "metadata": {},
   "source": [
    "# Calculate evaluation metrics for testing set"
   ]
  },
  {
   "cell_type": "code",
   "execution_count": 41,
   "id": "ccdcaaa5",
   "metadata": {},
   "outputs": [],
   "source": [
    "y_test_pred = pipeline.predict(X_test)"
   ]
  },
  {
   "cell_type": "code",
   "execution_count": 42,
   "id": "80e2cde9",
   "metadata": {},
   "outputs": [
    {
     "data": {
      "text/plain": [
       "array([0, 0, 0, ..., 0, 0, 0], dtype=int64)"
      ]
     },
     "execution_count": 42,
     "metadata": {},
     "output_type": "execute_result"
    }
   ],
   "source": [
    "y_test_pred"
   ]
  },
  {
   "cell_type": "code",
   "execution_count": 43,
   "id": "837e15de",
   "metadata": {},
   "outputs": [],
   "source": [
    "acc = accuracy_score(y_test, y_test_pred)"
   ]
  },
  {
   "cell_type": "code",
   "execution_count": 44,
   "id": "baa81dd1",
   "metadata": {},
   "outputs": [
    {
     "data": {
      "text/plain": [
       "0.9997422445470576"
      ]
     },
     "execution_count": 44,
     "metadata": {},
     "output_type": "execute_result"
    }
   ],
   "source": [
    "acc"
   ]
  },
  {
   "cell_type": "code",
   "execution_count": 45,
   "id": "e5fc42ca",
   "metadata": {},
   "outputs": [],
   "source": [
    "r2 = r2_score(y_test,y_test_pred)"
   ]
  },
  {
   "cell_type": "code",
   "execution_count": 46,
   "id": "285f7528",
   "metadata": {},
   "outputs": [
    {
     "data": {
      "text/plain": [
       "0.7960995337798644"
      ]
     },
     "execution_count": 46,
     "metadata": {},
     "output_type": "execute_result"
    }
   ],
   "source": [
    "r2"
   ]
  },
  {
   "cell_type": "code",
   "execution_count": 47,
   "id": "f3284a97",
   "metadata": {},
   "outputs": [],
   "source": [
    "classification = classification_report(y_test, y_test_pred)"
   ]
  },
  {
   "cell_type": "code",
   "execution_count": 48,
   "id": "021e3aa1",
   "metadata": {},
   "outputs": [
    {
     "data": {
      "text/plain": [
       "'              precision    recall  f1-score   support\\n\\n           0       1.00      1.00      1.00    953185\\n           1       0.90      0.90      0.90      1208\\n\\n    accuracy                           1.00    954393\\n   macro avg       0.95      0.95      0.95    954393\\nweighted avg       1.00      1.00      1.00    954393\\n'"
      ]
     },
     "execution_count": 48,
     "metadata": {},
     "output_type": "execute_result"
    }
   ],
   "source": [
    "classification"
   ]
  },
  {
   "cell_type": "code",
   "execution_count": 49,
   "id": "f7b96a00",
   "metadata": {},
   "outputs": [],
   "source": [
    "auc_roc = roc_auc_score(y_test, y_test_pred)"
   ]
  },
  {
   "cell_type": "code",
   "execution_count": 50,
   "id": "c22efc2c",
   "metadata": {},
   "outputs": [
    {
     "data": {
      "text/plain": [
       "0.9481981179897151"
      ]
     },
     "execution_count": 50,
     "metadata": {},
     "output_type": "execute_result"
    }
   ],
   "source": [
    "auc_roc"
   ]
  },
  {
   "cell_type": "markdown",
   "id": "49b04ab6",
   "metadata": {},
   "source": [
    "# Plot ROC Curve for testing set\n"
   ]
  },
  {
   "cell_type": "code",
   "execution_count": 51,
   "id": "6e43367d",
   "metadata": {},
   "outputs": [
    {
     "data": {
      "image/png": "[encoded data removed]",
      "text/plain": [
       "<Figure size 640x480 with 1 Axes>"
      ]
     },
     "metadata": {},
     "output_type": "display_data"
    }
   ],
   "source": [
    "y_prob_test = pipeline.predict_proba(X_test)[:, 1]\n",
    "fpr_test, tpr_test, thresholds_test = roc_curve(y_test, y_prob_test)\n",
    "plt.plot(fpr_test, tpr_test, label='ROC curve (Testing Set)')\n",
    "plt.xlabel('False Positive Rate')\n",
    "plt.ylabel('True Positive Rate')\n",
    "plt.title('ROC Curve (Testing Set)')\n",
    "plt.legend()\n",
    "plt.show()"
   ]
  },
  {
   "cell_type": "markdown",
   "id": "d5c7359d",
   "metadata": {},
   "source": [
    "# Q/A"
   ]
  },
  {
   "cell_type": "markdown",
   "id": "1dd31d91",
   "metadata": {},
   "source": [
    "# 1. Data cleaning including missing values, outliers and multi-collinearity. "
   ]
  },
  {
   "cell_type": "markdown",
   "id": "0c7eafff",
   "metadata": {},
   "source": [
    "there were no missing values in the DataFrame, but there were categorical value for which i used LabelEncoder \n",
    "and for multi-collinearity i used techniques such as dimensionality reduction methods like principal component analysis (PCA) "
   ]
  },
  {
   "cell_type": "markdown",
   "id": "a13127df",
   "metadata": {},
   "source": [
    "# 2. Describe your fraud detection model in elaboration. "
   ]
  },
  {
   "cell_type": "markdown",
   "id": "3ce57cdd",
   "metadata": {},
   "source": [
    " the fraud detection model is built using a machine learning approach, specifically the Random Forest Classifier. The model is trained on a labeled dataset that includes features such as 'amount', 'step', 'type', 'oldbalanceOrg', 'newbalanceOrig', 'nameDest', 'oldbalanceDest', and 'newbalanceDest' to predict the binary target variable 'isFraud', which indicates whether a transaction is fraudulent or not.\n",
    " \n",
    " The Random Forest Classifier is an ensemble learning method that combines multiple decision tree classifiers to make predictions. It is capable of handling categorical and numerical features, which makes it suitable for the dataset with a mix of both types of features. The model is trained using a labeled dataset that has been preprocessed, including handling missing values, converting categorical features to numerical representations (such as Label Encoder), and splitting the data into training, validation and testing sets.\n",
    " \n",
    " The performance of the model is evaluated using various metrics, such as accuracy, precision, recall, F1-score, and ROC-AUC score, to assess its predictive accuracy and ability to correctly classify fraudulent and non-fraudulent transactions."
   ]
  },
  {
   "cell_type": "markdown",
   "id": "00dfcf29",
   "metadata": {},
   "source": [
    "# 3. How did you select variables to be included in the model?"
   ]
  },
  {
   "cell_type": "markdown",
   "id": "bd1b8751",
   "metadata": {},
   "source": [
    "I selected variables for the model with the help of correlation and data visulization. from which i get to know which independent variable has positive correlation with the independent variable."
   ]
  },
  {
   "cell_type": "markdown",
   "id": "827b3ef1",
   "metadata": {},
   "source": [
    "# 4. Demonstrate the performance of the model by using best set of tools. \n"
   ]
  },
  {
   "cell_type": "markdown",
   "id": "c30a0f66",
   "metadata": {},
   "source": [
    "we used a RandomForestClassifier from Scikit-learn as the machine learning model for fraud detection. We split the dataset into training and testing sets, trained the model on the training data, made predictions on the testing data, and calculated evaluation metrics such as confusion matrix, classification report, and AUC-ROC score. Finally, we plotted the ROC curve to visually assess the model's performance. These tools allow us to evaluate and demonstrate the performance of the fraud detection model in terms of its accuracy, precision, recall, and AUC-ROC score, which are commonly used metrics in such tasks."
   ]
  },
  {
   "cell_type": "markdown",
   "id": "ea6d074e",
   "metadata": {},
   "source": [
    "# 5. What are the key factors that predict fraudulent customer? \n"
   ]
  },
  {
   "cell_type": "markdown",
   "id": "c0e71c1b",
   "metadata": {},
   "source": [
    "some potential key factors that could be used to predict fraudulent customers in a financial fraud detection scenario:\n",
    "\n",
    "type: The type of transaction could be a key factor. For example, certain types of transactions such as \"TRANSFER\" or \"CASH_OUT\" may be more prone to fraudulent activities compared to other types of transactions.\n",
    "\n",
    "amount: The transaction amount could be an important factor. Unusually large transaction amounts, especially if they deviate from typical transaction amounts for a particular customer, may be indicative of potential fraud.\n",
    "\n",
    "oldbalanceOrg and newbalanceOrig: The old and new balances of the originating account could be used to detect potential fraud. Sudden changes in balances, such as large withdrawals or transfers from an account that leave it with a significantly reduced balance, may signal fraudulent activity.\n",
    "\n",
    "nameDest, oldbalanceDest, and newbalanceDest: Similar to the originating account, the destination account's name, old balance, and new balance could be used as factors in fraud detection. Sudden changes in balances or frequent transfers to the same destination account could be indicative of fraudulent behavior.\n",
    "\n",
    "step: step patterns of fraud, such as known fraudsters, frequent occurrences of similar transaction patterns, or known fraud indicators, could be used to identify potential fraudulent customers."
   ]
  },
  {
   "cell_type": "markdown",
   "id": "56f45088",
   "metadata": {},
   "source": [
    "# 6. Do these factors make sense? If yes, How? If not, How not? \n"
   ]
  },
  {
   "cell_type": "markdown",
   "id": "20816c8f",
   "metadata": {},
   "source": [
    "yes these factors makes sense. Here's a closer look:\n",
    "\n",
    "type: The type of transaction could be relevant in fraud detection as certain types of transactions, such as \"TRANSFER\" or \"CASH_OUT\", are more commonly associated with fraudulent activities. For example, fraudulent actors may attempt to transfer funds from one account to another or cash out stolen funds through certain transaction types.\n",
    "\n",
    "amount: The transaction amount could be indicative of potential fraud, as unusually large transaction amounts, especially if they deviate from typical transaction amounts for a particular customer, may signal fraudulent activity. Fraudsters may attempt to make large transactions to quickly move funds out of an account or to maximize their gains from fraudulent activities.\n",
    "\n",
    "oldbalanceOrg and newbalanceOrig: Changes in the originating account's balance before and after a transaction could be relevant in detecting potential fraud. Sudden changes in balances, such as large withdrawals or transfers that significantly reduce the account balance, may signal fraudulent behavior.\n",
    "\n",
    "nameDest, oldbalanceDest, and newbalanceDest: Similar to the originating account, the destination account's name, old balance, and new balance could be used as factors in fraud detection. Sudden changes in destination account balances or frequent transfers to the same account could be indicative of fraudulent activities."
   ]
  },
  {
   "cell_type": "markdown",
   "id": "e210832d",
   "metadata": {},
   "source": [
    "# 7. What kind of prevention should be adopted while company update its infrastructure?\n"
   ]
  },
  {
   "cell_type": "markdown",
   "id": "7daa8530",
   "metadata": {},
   "source": [
    "some possible prevention measures that a company could adopt while updating its infrastructure for fraud detection:\n",
    "\n",
    "1. Increasing transaction monitoring\n",
    "2. Enhancing identity verification\n",
    "3. Strengthening authentication and authorization processes\n",
    "4. Real-time monitoring and alerts\n",
    "5. Regular staff training\n",
    "6. Data analysis"
   ]
  },
  {
   "cell_type": "markdown",
   "id": "da32b0ca",
   "metadata": {},
   "source": [
    "# 8. Assuming these actions have been implemented, how would you determine if they work?"
   ]
  },
  {
   "cell_type": "markdown",
   "id": "152a1291",
   "metadata": {},
   "source": [
    "To determine if the implemented fraud prevention measures are effective, some possible steps are:\n",
    "\n",
    "1. Monitoring fraud incidents\n",
    "2. comparision with historical data\n",
    "3. Feedback from stakeholders\n",
    "4. Evaluate the False positive and false negative rates\n",
    "    "
   ]
  },
  {
   "cell_type": "code",
   "execution_count": null,
   "id": "67aafeac",
   "metadata": {},
   "outputs": [],
   "source": []
  }
 ],
 "metadata": {
  "kernelspec": {
   "display_name": "Python 3 (ipykernel)",
   "language": "python",
   "name": "python3"
  },
  "language_info": {
   "codemirror_mode": {
    "name": "ipython",
    "version": 3
   },
   "file_extension": ".py",
   "mimetype": "text/x-python",
   "name": "python",
   "nbconvert_exporter": "python",
   "pygments_lexer": "ipython3",
   "version": "3.9.13"
  }
 },
 "nbformat": 4,
 "nbformat_minor": 5
}
